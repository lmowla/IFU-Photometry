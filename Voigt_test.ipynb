{
 "metadata": {
  "name": "",
  "signature": "sha256:9dfc4ae5b8002749e35ef34c6b96518fa4aed6b41ed72792a3ab97ed152f0d30"
 },
 "nbformat": 3,
 "nbformat_minor": 0,
 "worksheets": [
  {
   "cells": [
    {
     "cell_type": "code",
     "collapsed": false,
     "input": [
      "from astropy.io import fits\n",
      "from scipy import ndimage as nd\n",
      "import pylab as py\n",
      "import numpy as np\n",
      "from pylab import *\n",
      "import matplotlib.pyplot as plt\n",
      "from mpl_toolkits.mplot3d import Axes3D\n",
      "from scipy.stats import multivariate_normal\n",
      "import scipy.optimize as op\n",
      "from pymodelfit import VoigtModel, GaussianModel, LorentzianModel\n",
      "from scipy.optimize import *"
     ],
     "language": "python",
     "metadata": {},
     "outputs": [],
     "prompt_number": 32
    },
    {
     "cell_type": "code",
     "collapsed": false,
     "input": [
      "voigt=VoigtModel()\n",
      "gaussian=GaussianModel()\n",
      "lorentzian=LorentzianModel()"
     ],
     "language": "python",
     "metadata": {},
     "outputs": [],
     "prompt_number": 6
    },
    {
     "cell_type": "code",
     "collapsed": false,
     "input": [
      "a = np.arange(25).reshape((5, 5))"
     ],
     "language": "python",
     "metadata": {},
     "outputs": [],
     "prompt_number": 97
    },
    {
     "cell_type": "code",
     "collapsed": false,
     "input": [
      "d[0]"
     ],
     "language": "python",
     "metadata": {},
     "outputs": [
      {
       "metadata": {},
       "output_type": "pyout",
       "prompt_number": 175,
       "text": [
        "array([ 0,  1,  2,  3,  4,  5,  6,  7,  8,  9, 10, 11, 12, 13, 14, 15, 16,\n",
        "       17, 18, 19, 20, 21, 22, 23, 24, 25, 26, 27, 28, 29, 30, 31, 32, 33,\n",
        "       34, 35, 36, 37, 38, 39, 40, 41, 42, 43, 44, 45, 46, 47, 48, 49, 50,\n",
        "       51, 52, 53, 54, 55, 56, 57, 58, 59, 60, 61, 62, 63, 64, 65, 66, 67,\n",
        "       68, 69, 70, 71, 72, 73, 74, 75, 76, 77, 78, 79, 80, 81, 82, 83, 84,\n",
        "       85, 86, 87, 88, 89, 90, 91, 92, 93, 94, 95, 96, 97, 98, 99])"
       ]
      }
     ],
     "prompt_number": 175
    },
    {
     "cell_type": "code",
     "collapsed": false,
     "input": [
      "d=np.array([np.arange(100),]*100)\n",
      "\n",
      "v1=VoigtModel.f(voigt,d,A=100,sig=10,gamma=2,mu=25)\n",
      "v2=VoigtModel.f(voigt,d,A=100,sig=10,gamma=2,mu=25).transpose()\n",
      "v3=VoigtModel.f(voigt,d,A=100,sig=10,gamma=2,mu=75)\n",
      "v4=VoigtModel.f(voigt,d,A=100,sig=10,gamma=2,mu=75).transpose()\n",
      "\n",
      "v = v1*v2 + v3*v4"
     ],
     "language": "python",
     "metadata": {},
     "outputs": [],
     "prompt_number": 152
    },
    {
     "cell_type": "code",
     "collapsed": false,
     "input": [
      "def two_voigt (v1_mu_ra, v1_mu_dec, v2_mu_ra, v2_mu_dec,sig1,sig2,gam1,gam2, A1=100, A2=150):\n",
      "    #voigt=VoightModel()\n",
      "    x,y = np.mgrid[0:100:1,0:100:1]\n",
      "    v1_ra=VoigtModel.f(voigt,x,A1,sig1,gam1,v1_mu_ra)\n",
      "    v1_dec=VoigtModel.f(voigt,x,A1,sig1,gam1,v1_mu_dec).transpose()\n",
      "    v2_ra=VoigtModel.f(voigt,x,A2,sig2,gam2,v2_mu_ra)\n",
      "    v2_dec=VoigtModel.f(voigt,x,A2,sig2,gam2,v2_mu_dec).transpose()\n",
      "    v = v1_ra*v1_dec + v2_ra*v2_dec\n",
      "    #plot_voigt = plt.imshow(v)\n",
      "    return v"
     ],
     "language": "python",
     "metadata": {},
     "outputs": [],
     "prompt_number": 24
    },
    {
     "cell_type": "code",
     "collapsed": false,
     "input": [
      "model=two_voigt(40,10,60,10,1,1.5,1,1)\n",
      "shape(model)"
     ],
     "language": "python",
     "metadata": {},
     "outputs": [
      {
       "metadata": {},
       "output_type": "pyout",
       "prompt_number": 25,
       "text": [
        "(100, 100)"
       ]
      }
     ],
     "prompt_number": 25
    },
    {
     "cell_type": "code",
     "collapsed": false,
     "input": [
      "x,y = np.mgrid[0:100:1,0:100:1]\n",
      "shape(x)"
     ],
     "language": "python",
     "metadata": {},
     "outputs": [
      {
       "metadata": {},
       "output_type": "pyout",
       "prompt_number": 26,
       "text": [
        "(100, 100)"
       ]
      }
     ],
     "prompt_number": 26
    },
    {
     "cell_type": "code",
     "collapsed": false,
     "input": [
      "fig = plt.figure()\n",
      "ax = plt.axes(projection='3d')\n",
      "\n",
      "p = ax.plot_surface(x,y,model, cmap=plt.cm.jet, rstride=1, cstride=1, linewidth=0)\n",
      "\n",
      "ax.set_xlabel('RA J2000.0')\n",
      "ax.set_ylabel('DEC J2000.0')\n",
      "ax.set_zlabel('Intensity')\n",
      "\n",
      "fig.colorbar(p,ax=ax)\n",
      "\n",
      "plt.title('Voigt Model for KOI13')"
     ],
     "language": "python",
     "metadata": {},
     "outputs": [
      {
       "metadata": {},
       "output_type": "pyout",
       "prompt_number": 27,
       "text": [
        "<matplotlib.text.Text at 0x112d3c110>"
       ]
      },
      {
       "metadata": {},
       "output_type": "display_data",
       "png": "[encoded data removed]",
       "text": [
        "<matplotlib.figure.Figure at 0x110c9a490>"
       ]
      }
     ],
     "prompt_number": 27
    },
    {
     "cell_type": "code",
     "collapsed": false,
     "input": [
      "plt.imshow(d)\n",
      "plt.colorbar()"
     ],
     "language": "python",
     "metadata": {},
     "outputs": [
      {
       "metadata": {},
       "output_type": "pyout",
       "prompt_number": 14,
       "text": [
        "<matplotlib.colorbar.Colorbar instance at 0x10ddfb1b8>"
       ]
      },
      {
       "metadata": {},
       "output_type": "display_data",
       "png": "[encoded data removed]",
       "text": [
        "<matplotlib.figure.Figure at 0x10dd01c10>"
       ]
      }
     ],
     "prompt_number": 14
    },
    {
     "cell_type": "code",
     "collapsed": false,
     "input": [
      "v1"
     ],
     "language": "python",
     "metadata": {},
     "outputs": [
      {
       "metadata": {},
       "output_type": "pyout",
       "prompt_number": 46,
       "text": [
        "array([[[ 0.06080628,  0.06080628,  0.06080628,  0.06080628],\n",
        "        [ 0.06793939,  0.06793939,  0.06793939,  0.06793939],\n",
        "        [ 0.07456112,  0.07456112,  0.07456112,  0.07456112],\n",
        "        [ 0.07999935,  0.07999935,  0.07999935,  0.07999935],\n",
        "        [ 0.0835928 ,  0.0835928 ,  0.0835928 ,  0.0835928 ]],\n",
        "\n",
        "       [[ 0.0835928 ,  0.07999935,  0.07456112,  0.06793939],\n",
        "        [ 0.0835928 ,  0.07999935,  0.07456112,  0.06793939],\n",
        "        [ 0.0835928 ,  0.07999935,  0.07456112,  0.06793939],\n",
        "        [ 0.0835928 ,  0.07999935,  0.07456112,  0.06793939],\n",
        "        [ 0.0835928 ,  0.07999935,  0.07456112,  0.06793939]]])"
       ]
      }
     ],
     "prompt_number": 46
    },
    {
     "cell_type": "code",
     "collapsed": false,
     "input": [
      "b = np.arange(200)"
     ],
     "language": "python",
     "metadata": {},
     "outputs": [],
     "prompt_number": 161
    },
    {
     "cell_type": "code",
     "collapsed": false,
     "input": [
      "b"
     ],
     "language": "python",
     "metadata": {},
     "outputs": [
      {
       "metadata": {},
       "output_type": "pyout",
       "prompt_number": 21,
       "text": [
        "array([  0,   1,   2,   3,   4,   5,   6,   7,   8,   9,  10,  11,  12,\n",
        "        13,  14,  15,  16,  17,  18,  19,  20,  21,  22,  23,  24,  25,\n",
        "        26,  27,  28,  29,  30,  31,  32,  33,  34,  35,  36,  37,  38,\n",
        "        39,  40,  41,  42,  43,  44,  45,  46,  47,  48,  49,  50,  51,\n",
        "        52,  53,  54,  55,  56,  57,  58,  59,  60,  61,  62,  63,  64,\n",
        "        65,  66,  67,  68,  69,  70,  71,  72,  73,  74,  75,  76,  77,\n",
        "        78,  79,  80,  81,  82,  83,  84,  85,  86,  87,  88,  89,  90,\n",
        "        91,  92,  93,  94,  95,  96,  97,  98,  99, 100, 101, 102, 103,\n",
        "       104, 105, 106, 107, 108, 109, 110, 111, 112, 113, 114, 115, 116,\n",
        "       117, 118, 119, 120, 121, 122, 123, 124, 125, 126, 127, 128, 129,\n",
        "       130, 131, 132, 133, 134, 135, 136, 137, 138, 139, 140, 141, 142,\n",
        "       143, 144, 145, 146, 147, 148, 149, 150, 151, 152, 153, 154, 155,\n",
        "       156, 157, 158, 159, 160, 161, 162, 163, 164, 165, 166, 167, 168,\n",
        "       169, 170, 171, 172, 173, 174, 175, 176, 177, 178, 179, 180, 181,\n",
        "       182, 183, 184, 185, 186, 187, 188, 189, 190, 191, 192, 193, 194,\n",
        "       195, 196, 197, 198, 199])"
       ]
      }
     ],
     "prompt_number": 21
    },
    {
     "cell_type": "code",
     "collapsed": false,
     "input": [
      "numpy.arange(25).reshape((5, 5))"
     ],
     "language": "python",
     "metadata": {},
     "outputs": [
      {
       "metadata": {},
       "output_type": "pyout",
       "prompt_number": 30,
       "text": [
        "array([[ 0,  1,  2,  3,  4],\n",
        "       [ 5,  6,  7,  8,  9],\n",
        "       [10, 11, 12, 13, 14],\n",
        "       [15, 16, 17, 18, 19],\n",
        "       [20, 21, 22, 23, 24]])"
       ]
      }
     ],
     "prompt_number": 30
    },
    {
     "cell_type": "code",
     "collapsed": false,
     "input": [
      "c=np.mgrid[0:5:1,6:10:1]\n",
      "#c=x,y"
     ],
     "language": "python",
     "metadata": {},
     "outputs": [],
     "prompt_number": 90
    },
    {
     "cell_type": "code",
     "collapsed": false,
     "input": [
      "c"
     ],
     "language": "python",
     "metadata": {},
     "outputs": [
      {
       "metadata": {},
       "output_type": "pyout",
       "prompt_number": 91,
       "text": [
        "array([[[0, 0, 0, 0],\n",
        "        [1, 1, 1, 1],\n",
        "        [2, 2, 2, 2],\n",
        "        [3, 3, 3, 3],\n",
        "        [4, 4, 4, 4]],\n",
        "\n",
        "       [[6, 7, 8, 9],\n",
        "        [6, 7, 8, 9],\n",
        "        [6, 7, 8, 9],\n",
        "        [6, 7, 8, 9],\n",
        "        [6, 7, 8, 9]]])"
       ]
      }
     ],
     "prompt_number": 91
    },
    {
     "cell_type": "code",
     "collapsed": false,
     "input": [
      "plt.imshow(c)"
     ],
     "language": "python",
     "metadata": {},
     "outputs": [
      {
       "metadata": {},
       "output_type": "pyout",
       "prompt_number": 88,
       "text": [
        "<matplotlib.image.AxesImage at 0x10ee52910>"
       ]
      },
      {
       "metadata": {},
       "output_type": "display_data",
       "png": "[encoded data removed]",
       "text": [
        "<matplotlib.figure.Figure at 0x10ee08cd0>"
       ]
      }
     ],
     "prompt_number": 88
    },
    {
     "cell_type": "code",
     "collapsed": false,
     "input": [
      "np.array([np.arange(3),]*3).transpose()"
     ],
     "language": "python",
     "metadata": {},
     "outputs": [
      {
       "metadata": {},
       "output_type": "pyout",
       "prompt_number": 118,
       "text": [
        "array([[0, 0, 0],\n",
        "       [1, 1, 1],\n",
        "       [2, 2, 2]])"
       ]
      }
     ],
     "prompt_number": 118
    },
    {
     "cell_type": "code",
     "collapsed": false,
     "input": [
      "d=np.array([np.arange(100),]*100)"
     ],
     "language": "python",
     "metadata": {},
     "outputs": [],
     "prompt_number": 2
    },
    {
     "cell_type": "code",
     "collapsed": false,
     "input": [
      "shape(d)"
     ],
     "language": "python",
     "metadata": {},
     "outputs": [
      {
       "metadata": {},
       "output_type": "pyout",
       "prompt_number": 3,
       "text": [
        "(100, 100)"
       ]
      }
     ],
     "prompt_number": 3
    },
    {
     "cell_type": "code",
     "collapsed": false,
     "input": [
      "def lnlike(theta, t, v, verr, t2, f, ferr):\n",
      "    lat1, phz1, frac1, lat2, phz2, frac2, lat3, phz3, frac3 = theta\n",
      "    #print('l1:{}, p1:{}, f:{}, l2:{}, p2:{}, f2: {},  l3:{}, p3:{}, f3: {}'.format(lat1, phz1, frac1, lat2, phz2, frac2, lat3, phz3, frac3))\n",
      "    if ((frac1 >= 0.5 ) or (frac1 <= 0.) or (frac2 >= 0.5) or (frac2 <= 0.) or (frac3 >= 0.5) or (frac3 <= 0.)):\n",
      "        return -np.inf\n",
      "    else:\n",
      "        spots = [epseri.spot(lat1, phz1, frac1), epseri.spot(lat2, phz2, frac2), epseri.spot(lat3, phz3, frac3)]\n",
      "        occ = FastOccluder(epseri, spots)\n",
      "        mod_rvs = get_rvs(occ, t * 86400.)\n",
      "        mod_pho = get_fluxes(occ, t2 * 86400.)\n",
      "        inv_sigma2 = 1.0/(verr**2)\n",
      "        inv_sigmap2 = 1.0/(ferr**2)\n",
      "        lnlikeoutpt = -0.5*(np.sum((v - mod_rvs)**2*inv_sigma2 - np.log(inv_sigma2))) -\n",
      "    return lnlikeoutpt\n",
      "\n",
      "#lat1, phase1, fracArea1, lat2, phase2, fracArea2, lat3, phase3, fracArea3\n",
      "theta_init = [33.0,   5.86,   3.67e-03, 10.8,   4.4,   2.28e-03, 72.,   7.,   1.5e-03]\n",
      "\n",
      "nll = lambda *args: -lnlike(*args)\n",
      "result = op.minimize(nll, theta_init, args=(t, v, verr, t2, f, ferr), method='Powell')"
     ],
     "language": "python",
     "metadata": {},
     "outputs": [
      {
       "ename": "NameError",
       "evalue": "name 't' is not defined",
       "output_type": "pyerr",
       "traceback": [
        "\u001b[0;31m---------------------------------------------------------------------------\u001b[0m\n\u001b[0;31mNameError\u001b[0m                                 Traceback (most recent call last)",
        "\u001b[0;32m<ipython-input-43-16aff343c4dd>\u001b[0m in \u001b[0;36m<module>\u001b[0;34m()\u001b[0m\n\u001b[1;32m     18\u001b[0m \u001b[0;34m\u001b[0m\u001b[0m\n\u001b[1;32m     19\u001b[0m \u001b[0mnll\u001b[0m \u001b[0;34m=\u001b[0m \u001b[0;32mlambda\u001b[0m \u001b[0;34m*\u001b[0m\u001b[0margs\u001b[0m\u001b[0;34m:\u001b[0m \u001b[0;34m-\u001b[0m\u001b[0mlnlike\u001b[0m\u001b[0;34m(\u001b[0m\u001b[0;34m*\u001b[0m\u001b[0margs\u001b[0m\u001b[0;34m)\u001b[0m\u001b[0;34m\u001b[0m\u001b[0m\n\u001b[0;32m---> 20\u001b[0;31m \u001b[0mresult\u001b[0m \u001b[0;34m=\u001b[0m \u001b[0mop\u001b[0m\u001b[0;34m.\u001b[0m\u001b[0mminimize\u001b[0m\u001b[0;34m(\u001b[0m\u001b[0mnll\u001b[0m\u001b[0;34m,\u001b[0m \u001b[0mtheta_init\u001b[0m\u001b[0;34m,\u001b[0m \u001b[0margs\u001b[0m\u001b[0;34m=\u001b[0m\u001b[0;34m(\u001b[0m\u001b[0mt\u001b[0m\u001b[0;34m,\u001b[0m \u001b[0mv\u001b[0m\u001b[0;34m,\u001b[0m \u001b[0mverr\u001b[0m\u001b[0;34m,\u001b[0m \u001b[0mt2\u001b[0m\u001b[0;34m,\u001b[0m \u001b[0mf\u001b[0m\u001b[0;34m,\u001b[0m \u001b[0mferr\u001b[0m\u001b[0;34m)\u001b[0m\u001b[0;34m,\u001b[0m \u001b[0mmethod\u001b[0m\u001b[0;34m=\u001b[0m\u001b[0;34m'Powell'\u001b[0m\u001b[0;34m)\u001b[0m\u001b[0;34m\u001b[0m\u001b[0m\n\u001b[0m",
        "\u001b[0;31mNameError\u001b[0m: name 't' is not defined"
       ]
      }
     ],
     "prompt_number": 43
    },
    {
     "cell_type": "code",
     "collapsed": false,
     "input": [
      "def voigt_op(theta):\n",
      "    sig_dec,sig_ra,gam_dec,gam_ra, A1, A2 = theta\n",
      "    #print('l1:{}, p1:{}, f:{}, l2:{}, p2:{}, f2: {},  l3:{}, p3:{}, f3: {}'.format(lat1, phz1, frac1, lat2, phz2, frac2, lat3, phz3, frac3))\n",
      "    if ((sig_dec <= 0. ) or (sig_ra <= 0.) or (gam_ra <= 0.) or (gam_dec <= 0.) or (A1 <= 0.) or (A2 <= 0.)):\n",
      "        return -np.inf\n",
      "    else:\n",
      "        data=np.sum(cube[2200:2600,:,:],axis=0)\n",
      "        model=two_voigt (sig_dec,sig_ra,gam_ra,gam_dec, A1, A2)\n",
      "        outpt = np.sum((data - model)**2)\n",
      "    return outpt\n",
      "\n",
      "#lat1, phase1, fracArea1, lat2, phase2, fracArea2, lat3, phase3, fracArea3\n",
      "theta_init = [0.00025,0.0025,0.0001,0.00025,115,100]\n",
      "\n",
      "nll = lambda *args: -voigt_op(*args)\n",
      "result = op.minimize(nll, theta_init, args=(sig_dec,sig_ra,gam_ra,gam_dec, A1, A2), method='Powell')"
     ],
     "language": "python",
     "metadata": {},
     "outputs": [
      {
       "ename": "NameError",
       "evalue": "name 'sig_dec' is not defined",
       "output_type": "pyerr",
       "traceback": [
        "\u001b[0;31m---------------------------------------------------------------------------\u001b[0m\n\u001b[0;31mNameError\u001b[0m                                 Traceback (most recent call last)",
        "\u001b[0;32m<ipython-input-44-5e3f3432bebf>\u001b[0m in \u001b[0;36m<module>\u001b[0;34m()\u001b[0m\n\u001b[1;32m     14\u001b[0m \u001b[0;34m\u001b[0m\u001b[0m\n\u001b[1;32m     15\u001b[0m \u001b[0mnll\u001b[0m \u001b[0;34m=\u001b[0m \u001b[0;32mlambda\u001b[0m \u001b[0;34m*\u001b[0m\u001b[0margs\u001b[0m\u001b[0;34m:\u001b[0m \u001b[0;34m-\u001b[0m\u001b[0mvoigt_op\u001b[0m\u001b[0;34m(\u001b[0m\u001b[0;34m*\u001b[0m\u001b[0margs\u001b[0m\u001b[0;34m)\u001b[0m\u001b[0;34m\u001b[0m\u001b[0m\n\u001b[0;32m---> 16\u001b[0;31m \u001b[0mresult\u001b[0m \u001b[0;34m=\u001b[0m \u001b[0mop\u001b[0m\u001b[0;34m.\u001b[0m\u001b[0mminimize\u001b[0m\u001b[0;34m(\u001b[0m\u001b[0mnll\u001b[0m\u001b[0;34m,\u001b[0m \u001b[0mtheta_init\u001b[0m\u001b[0;34m,\u001b[0m \u001b[0margs\u001b[0m\u001b[0;34m=\u001b[0m\u001b[0;34m(\u001b[0m\u001b[0msig_dec\u001b[0m\u001b[0;34m,\u001b[0m\u001b[0msig_ra\u001b[0m\u001b[0;34m,\u001b[0m\u001b[0mgam_ra\u001b[0m\u001b[0;34m,\u001b[0m\u001b[0mgam_dec\u001b[0m\u001b[0;34m,\u001b[0m \u001b[0mA1\u001b[0m\u001b[0;34m,\u001b[0m \u001b[0mA2\u001b[0m\u001b[0;34m)\u001b[0m\u001b[0;34m,\u001b[0m \u001b[0mmethod\u001b[0m\u001b[0;34m=\u001b[0m\u001b[0;34m'Powell'\u001b[0m\u001b[0;34m)\u001b[0m\u001b[0;34m\u001b[0m\u001b[0m\n\u001b[0m",
        "\u001b[0;31mNameError\u001b[0m: name 'sig_dec' is not defined"
       ]
      }
     ],
     "prompt_number": 44
    },
    {
     "cell_type": "code",
     "collapsed": false,
     "input": [
      "minf"
     ],
     "language": "python",
     "metadata": {},
     "outputs": [
      {
       "metadata": {},
       "output_type": "pyout",
       "prompt_number": 40,
       "text": [
        "<function __main__.minf>"
       ]
      }
     ],
     "prompt_number": 40
    },
    {
     "cell_type": "code",
     "collapsed": false,
     "input": [
      "data=np.sum(cube[2200:2600,:,:],axis=0)\n",
      "        model=two_voigt (sig_dec,sig_ra,gam_ra,gam_dec, A1, A2)\n",
      "        lnlikeoutpt = np.sum((data - model)**2)"
     ],
     "language": "python",
     "metadata": {},
     "outputs": []
    }
   ],
   "metadata": {}
  }
 ]
}