{
 "metadata": {
  "name": "",
  "signature": "sha256:808e97a82a1d18713f0a222ba47c4fe0b2e3a3bbd3694c18db87efd6e66d0af0"
 },
 "nbformat": 3,
 "nbformat_minor": 0,
 "worksheets": [
  {
   "cells": [
    {
     "cell_type": "code",
     "collapsed": false,
     "input": [
      "import numpy as np\n",
      "import scipy.optimize as op\n",
      "import emcee\n",
      "import triangle\n",
      "import matplotlib.pyplot as pl"
     ],
     "language": "python",
     "metadata": {},
     "outputs": [],
     "prompt_number": 22
    },
    {
     "cell_type": "code",
     "collapsed": false,
     "input": [
      "# Choose the \"true\" parameters.\n",
      "m_true = -0.9594\n",
      "b_true = 4.294\n",
      "f_true = 0.534\n",
      "\n",
      "# Generate some synthetic data from the model.\n",
      "N = 50\n",
      "x = np.sort(10*np.random.rand(N))\n",
      "yerr = 0.1+0.5*np.random.rand(N)\n",
      "y = m_true*x+b_true\n",
      "y += np.abs(f_true*y) * np.random.randn(N)\n",
      "y += yerr * np.random.randn(N)"
     ],
     "language": "python",
     "metadata": {},
     "outputs": [],
     "prompt_number": 4
    },
    {
     "cell_type": "code",
     "collapsed": false,
     "input": [
      "A = np.vstack((np.ones_like(x), x)).T\n",
      "C = np.diag(yerr * yerr)\n",
      "cov = np.linalg.inv(np.dot(A.T, np.linalg.solve(C, A)))\n",
      "b_ls, m_ls = np.dot(cov, np.dot(A.T, np.linalg.solve(C, y)))"
     ],
     "language": "python",
     "metadata": {},
     "outputs": [],
     "prompt_number": 2
    },
    {
     "cell_type": "code",
     "collapsed": false,
     "input": [
      "def lnlike(theta, x, y, yerr):\n",
      "    m, b, lnf = theta\n",
      "    model = m * x + b\n",
      "    inv_sigma2 = 1.0/(yerr**2 + model**2*np.exp(2*lnf))\n",
      "    return -0.5*(np.sum((y-model)**2*inv_sigma2 - np.log(inv_sigma2)))"
     ],
     "language": "python",
     "metadata": {},
     "outputs": [],
     "prompt_number": 3
    },
    {
     "cell_type": "code",
     "collapsed": false,
     "input": [
      "nll = lambda *args: -lnlike(*args)\n",
      "result = op.minimize(nll, [m_true, b_true, np.log(f_true)], args=(x, y, yerr))\n",
      "m_ml, b_ml, lnf_ml = result[\"x\"]"
     ],
     "language": "python",
     "metadata": {},
     "outputs": [],
     "prompt_number": 6
    },
    {
     "cell_type": "code",
     "collapsed": false,
     "input": [
      "def lnprior(theta):\n",
      "    m, b, lnf = theta\n",
      "    if -5.0 < m < 0.5 and 0.0 < b < 10.0 and -10.0 < lnf < 1.0:\n",
      "        return 0.0\n",
      "    return -np.inf"
     ],
     "language": "python",
     "metadata": {},
     "outputs": [],
     "prompt_number": 7
    },
    {
     "cell_type": "code",
     "collapsed": false,
     "input": [
      "def lnprob(theta, x, y, yerr):\n",
      "    lp = lnprior(theta)\n",
      "    if not np.isfinite(lp):\n",
      "        return -np.inf\n",
      "    return lp + lnlike(theta, x, y, yerr)"
     ],
     "language": "python",
     "metadata": {},
     "outputs": [],
     "prompt_number": 8
    },
    {
     "cell_type": "code",
     "collapsed": false,
     "input": [
      "ndim, nwalkers = 3, 100\n",
      "pos = [result[\"x\"] + 1e-4*np.random.randn(ndim) for i in range(nwalkers)]"
     ],
     "language": "python",
     "metadata": {},
     "outputs": [],
     "prompt_number": 63
    },
    {
     "cell_type": "code",
     "collapsed": false,
     "input": [
      "sampler = emcee.EnsembleSampler(nwalkers, ndim, lnprob, args=(x, y, yerr))\n",
      "#sampler.run_mcmc(pos, 500)"
     ],
     "language": "python",
     "metadata": {},
     "outputs": [],
     "prompt_number": 73
    },
    {
     "cell_type": "code",
     "collapsed": false,
     "input": [
      "samples = sampler.chain[:, 50:, :].reshape((-1, ndim))"
     ],
     "language": "python",
     "metadata": {},
     "outputs": [],
     "prompt_number": 71
    },
    {
     "cell_type": "code",
     "collapsed": false,
     "input": [
      "#fig = triangle.corner(samples, labels=[\"$m$\", \"$b$\", \"$\\ln\\,f$\"],truths=[m_true, b_true, np.log(f_true)])\n",
      "#fig.savefig(\"triangle.png\")"
     ],
     "language": "python",
     "metadata": {},
     "outputs": [],
     "prompt_number": 49
    },
    {
     "cell_type": "code",
     "collapsed": false,
     "input": [
      "xl = np.array([0, 10])\n",
      "for m, b, lnf in samples[np.random.randint(len(samples), size=100)]:\n",
      "    pl.plot(xl, m*xl+b, color=\"k\", alpha=0.1)\n",
      "pl.plot(xl, m_true*xl+b_true, color=\"r\", lw=2, alpha=0.8)\n",
      "pl.errorbar(x, y, yerr=yerr, fmt=\".k\")"
     ],
     "language": "python",
     "metadata": {},
     "outputs": [
      {
       "metadata": {},
       "output_type": "pyout",
       "prompt_number": 72,
       "text": [
        "<Container object of 3 artists>"
       ]
      },
      {
       "metadata": {},
       "output_type": "display_data",
       "png": "[encoded data removed]",
       "text": [
        "<matplotlib.figure.Figure at 0x129d14050>"
       ]
      }
     ],
     "prompt_number": 72
    },
    {
     "cell_type": "code",
     "collapsed": false,
     "input": [
      "samples[:, 2] = np.exp(samples[:, 2])\n",
      "m_mcmc, b_mcmc, f_mcmc = map(lambda v: (v[1], v[2]-v[1], v[1]-v[0]),zip(*np.percentile(samples, [16, 50, 84],axis=0)))"
     ],
     "language": "python",
     "metadata": {},
     "outputs": [],
     "prompt_number": 68
    },
    {
     "cell_type": "code",
     "collapsed": false,
     "input": [
      "m_mcmc, b_mcmc, f_mcmc "
     ],
     "language": "python",
     "metadata": {},
     "outputs": [
      {
       "metadata": {},
       "output_type": "pyout",
       "prompt_number": 69,
       "text": [
        "((-0.93620540045780554, 0.097489372880344205, 0.097827121936358452),\n",
        " (4.2980703134936213, 0.46661247580013931, 0.45900885302694583),\n",
        " (0.68157724655684915, 0.12535042139081698, 0.094470152083152015))"
       ]
      }
     ],
     "prompt_number": 69
    },
    {
     "cell_type": "code",
     "collapsed": false,
     "input": [],
     "language": "python",
     "metadata": {},
     "outputs": []
    }
   ],
   "metadata": {}
  }
 ]
}